{
 "cells": [
  {
   "cell_type": "code",
   "execution_count": 45,
   "metadata": {},
   "outputs": [],
   "source": [
    "from selenium import webdriver\n",
    "from selenium.webdriver.chrome.options import Options\n",
    "from selenium.webdriver.common.by import By\n",
    "from selenium.webdriver.support.ui import WebDriverWait\n",
    "from selenium.webdriver.support import expected_conditions as EC\n",
    "from selenium.common.exceptions import TimeoutException, NoSuchElementException\n",
    "import logging\n",
    "import urllib.parse\n",
    "from concurrent.futures import ThreadPoolExecutor, as_completed\n",
    "\n",
    "import time\n",
    "\n",
    "# Set up logging\n",
    "logging.basicConfig(level=logging.INFO, format='%(asctime)s - %(levelname)s - %(message)s')\n",
    "logger = logging.getLogger(__name__)\n",
    "\n",
    "\n",
    "def setup_driver():\n",
    "    \"\"\"Set up and return a configured Chrome WebDriver.\"\"\"\n",
    "    chrome_options = Options()\n",
    "    # chrome_options.add_argument(\"--headless\")  # Run in headless mode (no UI)\n",
    "    chrome_options.add_argument(\"--disable-gpu\")\n",
    "    chrome_options.add_argument(\"--window-size=1920,1080\")\n",
    "    chrome_options.add_argument(\"--disable-notifications\")\n",
    "    # chrome_options.add_argument('--proxy-server=http://157.230.149.107:1040')  # Public proxy\n",
    "\n",
    "\n",
    "    # Initialize the Chrome driver\n",
    "    driver = webdriver.Chrome(options=chrome_options)\n",
    "    return driver\n"
   ]
  },
  {
   "cell_type": "code",
   "execution_count": null,
   "metadata": {},
   "outputs": [],
   "source": [
    "import csv\n",
    "import threading\n",
    "import os\n",
    "import time\n",
    "import random\n",
    "from selenium.webdriver.common.by import By\n",
    "\n",
    "output_file = \"HDBank-branches.csv\"\n",
    "csv_lock = threading.Lock()  # Lock for thread-safe writing\n",
    "\n",
    "def write_headers():\n",
    "    if not os.path.exists(output_file):  # Check if file exists\n",
    "        with open(output_file, \"w\", newline=\"\", encoding=\"utf-8\") as f:\n",
    "            writer = csv.DictWriter(f, fieldnames=[\n",
    "                \"title\", \"telephone\", \"fax\", \"website\",\"address\"\n",
    "            ])\n",
    "            writer.writeheader()\n",
    "\n",
    "# Call write_headers once to ensure headers are written if the file doesn't exist\n",
    "write_headers()\n",
    "\n",
    "\n",
    "def store_data(row, index):\n",
    "    try:\n",
    "        with csv_lock:\n",
    "            with open(output_file, \"a\", newline=\"\", encoding=\"utf-8\") as f:\n",
    "                writer = csv.DictWriter(f, fieldnames=row.keys())\n",
    "                writer.writerow(row)\n",
    "\n",
    "        return row\n",
    "\n",
    "    except Exception as e:\n",
    "        print(f\"[{index + 1}] Failed to insert info: {e}\")"
   ]
  },
  {
   "cell_type": "code",
   "execution_count": null,
   "metadata": {},
   "outputs": [],
   "source": []
  },
  {
   "cell_type": "code",
   "execution_count": null,
   "metadata": {},
   "outputs": [
    {
     "name": "stderr",
     "output_type": "stream",
     "text": [
      "2025-04-11 14:21:42,722 - INFO - Found 354 store elements to scrape\n"
     ]
    },
    {
     "name": "stdout",
     "output_type": "stream",
     "text": [
      "Found 354 store elements.\n"
     ]
    }
   ],
   "source": [
    "driver = setup_driver()\n",
    "driver.get(\"https://hdbank.com.vn/vi/atm-branch\")\n",
    "\n",
    "time.sleep(10)\n",
    "try:\n",
    "    elements = driver.find_elements(By.XPATH, \"//li[contains(@class, 'panel_list__item')]\")\n",
    "    element_count = len(elements)\n",
    "    logger.info(f\"Found {element_count} elements to scrape\")\n",
    "    driver.save_screenshot(\"page.png\")\n",
    "except Exception as e:\n",
    "    logger.error(f\"An error occurred during scraping: {str(e)}\", exc_info=True)\n",
    "element_count = len(elements)\n",
    "print(f\"Found {element_count} elements.\")\n",
    "\n",
    "# Randomly select 5 stores from the available elements\n",
    "selected_elements = random.sample(elements, min(10, element_count))\n",
    "\n"
   ]
  },
  {
   "cell_type": "code",
   "execution_count": 73,
   "metadata": {},
   "outputs": [],
   "source": [
    "\n",
    "for index, element in enumerate(elements):\n",
    "    try:\n",
    "        title = element.find_element(By.XPATH, \".//div[contains(@class, 'panel_list__item-title')]/p\").text\n",
    "        \n",
    "        # Get the paragraph that contains Tel and Fax\n",
    "        tel_fax_block = element.find_element(By.XPATH, \".//div[contains(@class, 'panel_list__item-desc')]/p[contains(@class, 'p-custom-opacity')]\").text\n",
    "\n",
    "        address = element.find_element(By.XPATH, \".//div[contains(@class, 'panel_list__item-desc')]/p\").text\n",
    "        \n",
    "        # Split Tel and Fax\n",
    "        tel = fax = ''\n",
    "        if \"Tel:\" in tel_fax_block:\n",
    "            parts = tel_fax_block.replace(\"Tel:\", \"\").split(\" - Fax:\")\n",
    "            tel = parts[0].strip()\n",
    "            fax = parts[1].strip() if len(parts) > 1 else ''\n",
    "\n",
    "\n",
    "        try:\n",
    "            website = element.find_element(By.XPATH, \".//a[starts-with(@href, 'http') and contains(@href, 'hdbank')]\").get_attribute(\"href\")\n",
    "        except:\n",
    "            website = ''\n",
    "        \n",
    "        row = {\n",
    "            \"title\": title,\n",
    "            \"telephone\": tel,\n",
    "            \"fax\": fax,\n",
    "            \"website\": website,\n",
    "            \"address\":address\n",
    "        }\n",
    "        store_data(row,index)\n",
    "        \n",
    "    except Exception as e:\n",
    "        print(f\"[{index + 1}] Failed to extract info: {e}\")"
   ]
  },
  {
   "cell_type": "code",
   "execution_count": null,
   "metadata": {},
   "outputs": [],
   "source": []
  }
 ],
 "metadata": {
  "kernelspec": {
   "display_name": "Python 3",
   "language": "python",
   "name": "python3"
  },
  "language_info": {
   "codemirror_mode": {
    "name": "ipython",
    "version": 3
   },
   "file_extension": ".py",
   "mimetype": "text/x-python",
   "name": "python",
   "nbconvert_exporter": "python",
   "pygments_lexer": "ipython3",
   "version": "3.13.2"
  }
 },
 "nbformat": 4,
 "nbformat_minor": 2
}
